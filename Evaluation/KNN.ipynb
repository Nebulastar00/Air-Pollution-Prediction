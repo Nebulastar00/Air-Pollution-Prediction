{
 "cells": [
  {
   "cell_type": "code",
   "execution_count": 1,
   "metadata": {
    "collapsed": true
   },
   "outputs": [],
   "source": [
    "import pandas as pd\n",
    "import numpy as np\n",
    "import matplotlib.pylab as plt\n",
    "import datetime as dt\n",
    "%matplotlib inline\n",
    "from matplotlib.pylab import rcParams\n",
    "rcParams['figure.figsize'] = 15, 6"
   ]
  },
  {
   "cell_type": "code",
   "execution_count": 3,
   "metadata": {},
   "outputs": [],
   "source": [
    "finalSeries = []\n",
    "\n",
    "for i in range(2000,2017):\n",
    "    filename = \"data/data\"+str(i)\n",
    "    for j in range(1,13):\n",
    "        filename = filename + \"month\" + str(j) +\".csv\"\n",
    "        data = pd.read_csv(filename, usecols=['NO2 Mean'])\n",
    "        series = data['NO2 Mean'].tolist()\n",
    "        if(len(series)<31 and len(series)!=0):\n",
    "            while len(series)!=31:\n",
    "                last = series[len(series)-1]\n",
    "                series.append(last)\n",
    "        if(len(series)!=0):\n",
    "            series.append(j)\n",
    "            seriesNP = np.asarray(series)\n",
    "            finalSeries.append(seriesNP)\n",
    "        filename = \"data/data\"+str(i)\n",
    "\n",
    "finalSeriesNP = np.asarray(finalSeries)"
   ]
  },
  {
   "cell_type": "code",
   "execution_count": 4,
   "metadata": {
    "collapsed": true
   },
   "outputs": [],
   "source": [
    "def DTWDistance(s1, s2,w):\n",
    "    DTW={}\n",
    "    \n",
    "    w = max(w, abs(len(s1)-len(s2)))\n",
    "    \n",
    "    for i in range(-1,len(s1)):\n",
    "        for j in range(-1,len(s2)):\n",
    "            DTW[(i, j)] = float('inf')\n",
    "    DTW[(-1, -1)] = 0\n",
    "  \n",
    "    for i in range(len(s1)):\n",
    "        for j in range(max(0, i-w), min(len(s2), i+w)):\n",
    "            dist= (s1[i]-s2[j])**2\n",
    "            DTW[(i, j)] = dist + min(DTW[(i-1, j)],DTW[(i, j-1)], DTW[(i-1, j-1)])\n",
    "\t\t\n",
    "    return np.sqrt(DTW[len(s1)-1, len(s2)-1])"
   ]
  },
  {
   "cell_type": "code",
   "execution_count": 5,
   "metadata": {
    "collapsed": true
   },
   "outputs": [],
   "source": [
    "def LB_Keogh(s1,s2,r):\n",
    "    LB_sum=0\n",
    "    for ind,i in enumerate(s1):\n",
    "        \n",
    "        lower_bound=min(s2[(ind-r if ind-r>=0 else 0):(ind+r)])\n",
    "        upper_bound=max(s2[(ind-r if ind-r>=0 else 0):(ind+r)])\n",
    "        \n",
    "        if i>upper_bound:\n",
    "            LB_sum=LB_sum+(i-upper_bound)**2\n",
    "        elif i<lower_bound:\n",
    "            LB_sum=LB_sum+(i-lower_bound)**2\n",
    "    \n",
    "    return np.sqrt(LB_sum)"
   ]
  },
  {
   "cell_type": "code",
   "execution_count": 16,
   "metadata": {
    "collapsed": true
   },
   "outputs": [],
   "source": [
    "from sklearn.metrics import classification_report\n",
    "\n",
    "def knn(train,test,w):\n",
    "    preds=[]\n",
    "    for ind,i in enumerate(test):\n",
    "        min_dist=float('inf')\n",
    "        closest_seq=[]\n",
    "        #print ind\n",
    "        for j in train:\n",
    "            if LB_Keogh(i[:-1],j[:-1],5)<min_dist:\n",
    "                dist=DTWDistance(i[:-1],j[:-1],w)\n",
    "                if dist<min_dist:\n",
    "                    min_dist=dist\n",
    "                    closest_seq=j\n",
    "        preds.append(closest_seq[-1])\n",
    "    return classification_report(test[:,-1],preds), preds"
   ]
  },
  {
   "cell_type": "code",
   "execution_count": 14,
   "metadata": {},
   "outputs": [],
   "source": [
    "#np.random.shuffle(finalSeriesNP)\n",
    "train, test = finalSeriesNP[:150,:], finalSeriesNP[150:,:]\n"
   ]
  },
  {
   "cell_type": "code",
   "execution_count": 18,
   "metadata": {},
   "outputs": [],
   "source": [
    "report, pred = knn(train,test,10)"
   ]
  },
  {
   "cell_type": "code",
   "execution_count": 31,
   "metadata": {},
   "outputs": [
    {
     "name": "stdout",
     "output_type": "stream",
     "text": [
      "[8.0, 3.0, 10.0, 1.0, 4.0, 5.0, 9.0, 2.0, 3.0, 1.0, 3.0, 8.0, 5.0, 10.0, 9.0, 3.0, 2.0, 12.0, 1.0, 12.0, 10.0, 7.0, 6.0, 6.0, 3.0, 7.0, 8.0, 10.0, 8.0, 11.0, 6.0, 5.0, 3.0, 3.0, 7.0, 5.0, 6.0, 7.0, 11.0, 3.0, 3.0, 1.0, 6.0]\n",
      "[  6.   8.  10.   1.   9.   5.   8.  10.  12.   2.  11.   9.   4.  12.   4.\n",
      "   5.   5.  12.   2.   2.   5.   5.   7.   8.   2.   9.   7.  12.   6.  10.\n",
      "   7.   7.  10.   6.   7.   7.   3.   6.   1.   3.  10.  11.   9.]\n",
      "             precision    recall  f1-score   support\n",
      "\n",
      "        1.0       0.25      0.50      0.33         2\n",
      "        2.0       0.00      0.00      0.00         4\n",
      "        3.0       0.11      0.50      0.18         2\n",
      "        4.0       0.00      0.00      0.00         2\n",
      "        5.0       0.25      0.20      0.22         5\n",
      "        6.0       0.00      0.00      0.00         4\n",
      "        7.0       0.25      0.17      0.20         6\n",
      "        8.0       0.00      0.00      0.00         3\n",
      "        9.0       0.00      0.00      0.00         4\n",
      "       10.0       0.25      0.20      0.22         5\n",
      "       11.0       0.00      0.00      0.00         2\n",
      "       12.0       0.50      0.25      0.33         4\n",
      "\n",
      "avg / total       0.16      0.14      0.13        43\n",
      "\n"
     ]
    }
   ],
   "source": [
    "print(pred)\n",
    "print(test[:,-1])\n",
    "print(report)"
   ]
  },
  {
   "cell_type": "code",
   "execution_count": null,
   "metadata": {
    "collapsed": true
   },
   "outputs": [],
   "source": []
  }
 ],
 "metadata": {
  "kernelspec": {
   "display_name": "Python 3",
   "language": "python",
   "name": "python3"
  },
  "language_info": {
   "codemirror_mode": {
    "name": "ipython",
    "version": 3
   },
   "file_extension": ".py",
   "mimetype": "text/x-python",
   "name": "python",
   "nbconvert_exporter": "python",
   "pygments_lexer": "ipython3",
   "version": "3.6.2"
  }
 },
 "nbformat": 4,
 "nbformat_minor": 2
}
