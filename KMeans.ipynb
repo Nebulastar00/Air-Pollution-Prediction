{
 "cells": [
  {
   "cell_type": "code",
   "execution_count": 2,
   "metadata": {
    "collapsed": true
   },
   "outputs": [],
   "source": [
    "import pandas as pd\n",
    "import numpy as np\n",
    "import matplotlib.pylab as plt\n",
    "import datetime as dt\n",
    "%matplotlib inline\n",
    "from matplotlib.pylab import rcParams\n",
    "rcParams['figure.figsize'] = 15, 6"
   ]
  },
  {
   "cell_type": "code",
   "execution_count": 3,
   "metadata": {
    "collapsed": true
   },
   "outputs": [],
   "source": [
    "finalSeries = []\n",
    "\n",
    "for i in range(2000,2017):\n",
    "    filename = \"data/data\"+str(i)\n",
    "    for j in range(1,13):\n",
    "        filename = filename + \"month\" + str(j) +\".csv\"\n",
    "        data = pd.read_csv(filename, usecols=['NO2 Mean'])\n",
    "        series = data['NO2 Mean'].tolist()\n",
    "        if(len(series)<31 and len(series)!=0):\n",
    "            while len(series)!=31:\n",
    "                last = series[len(series)-1]\n",
    "                series.append(last)\n",
    "        if(len(series)!=0):\n",
    "            series.append(j)\n",
    "            seriesNP = np.asarray(series)\n",
    "            finalSeries.append(seriesNP)\n",
    "        filename = \"data/data\"+str(i)"
   ]
  },
  {
   "cell_type": "code",
   "execution_count": 56,
   "metadata": {},
   "outputs": [
    {
     "data": {
      "text/plain": [
       "array([  8.      ,   7.458333,   5.291667,   6.875   ,  10.875   ,\n",
       "        12.458333,  12.625   ,  13.166667,  13.136364,  15.      ,\n",
       "        17.708333,  13.083333,  11.125   ,   9.875   ,  14.956522,\n",
       "        16.416667,  15.666667,  10.5     ,   7.166667,   8.666667,\n",
       "        17.086957,  19.833333,  22.25    ,  23.291667,  11.916667,\n",
       "         8.458333,  15.291667,   9.583333,  12.913043,  14.958333,\n",
       "        14.958333,   9.      ])"
      ]
     },
     "execution_count": 56,
     "metadata": {},
     "output_type": "execute_result"
    }
   ],
   "source": []
  },
  {
   "cell_type": "code",
   "execution_count": 52,
   "metadata": {},
   "outputs": [
    {
     "ename": "NameError",
     "evalue": "name 'finalSeries1' is not defined",
     "output_type": "error",
     "traceback": [
      "\u001b[1;31m---------------------------------------------------------------------------\u001b[0m",
      "\u001b[1;31mNameError\u001b[0m                                 Traceback (most recent call last)",
      "\u001b[1;32m<ipython-input-52-840b91e3eb8f>\u001b[0m in \u001b[0;36m<module>\u001b[1;34m()\u001b[0m\n\u001b[0;32m     12\u001b[0m             \u001b[0mseries1\u001b[0m\u001b[1;33m.\u001b[0m\u001b[0mappend\u001b[0m\u001b[1;33m(\u001b[0m\u001b[0mj\u001b[0m\u001b[1;33m)\u001b[0m\u001b[1;33m\u001b[0m\u001b[0m\n\u001b[0;32m     13\u001b[0m             \u001b[0mseriesNP1\u001b[0m \u001b[1;33m=\u001b[0m \u001b[0mnp\u001b[0m\u001b[1;33m.\u001b[0m\u001b[0masarray\u001b[0m\u001b[1;33m(\u001b[0m\u001b[0mseries1\u001b[0m\u001b[1;33m)\u001b[0m\u001b[1;33m\u001b[0m\u001b[0m\n\u001b[1;32m---> 14\u001b[1;33m             \u001b[0mfinalSeries1\u001b[0m\u001b[1;33m.\u001b[0m\u001b[0mappend\u001b[0m\u001b[1;33m(\u001b[0m\u001b[0mseriesNP1\u001b[0m\u001b[1;33m)\u001b[0m\u001b[1;33m\u001b[0m\u001b[0m\n\u001b[0m\u001b[0;32m     15\u001b[0m         \u001b[0mfilename1\u001b[0m \u001b[1;33m=\u001b[0m \u001b[1;34m\"data/data\"\u001b[0m\u001b[1;33m+\u001b[0m\u001b[0mstr\u001b[0m\u001b[1;33m(\u001b[0m\u001b[0mi\u001b[0m\u001b[1;33m)\u001b[0m\u001b[1;33m\u001b[0m\u001b[0m\n",
      "\u001b[1;31mNameError\u001b[0m: name 'finalSeries1' is not defined"
     ]
    }
   ],
   "source": [
    "\"\"\"\"\n",
    "for i in range(2000,2017):\n",
    "    filename1 = \"data/data\"+str(i)\n",
    "    for j in range(1,13):\n",
    "        filename1 = filename1 + \"month\" + str(j) +\".csv\"\n",
    "        data1 = pd.read_csv(filename1, usecols=['NO2 Mean'])\n",
    "        series1 = data1['NO2 Mean'].tolist()\n",
    "        if(len(series1)<31 and len(series1)!=0):\n",
    "            while len(series1)!=31:\n",
    "                last1 = series1[len(series1)-1]\n",
    "                series1.append(last1)\n",
    "        if(len(series1)!=0):\n",
    "            series1.append(j)\n",
    "            seriesNP1 = np.asarray(series1)\n",
    "            finalSeries1.append(seriesNP1)\n",
    "        filename1 = \"data/data\"+str(i)\n",
    "\"\"\"\""
   ]
  },
  {
   "cell_type": "code",
   "execution_count": 5,
   "metadata": {},
   "outputs": [
    {
     "name": "stdout",
     "output_type": "stream",
     "text": [
      "[[ 15.208333  18.5       31.521739 ...,  28.083333  28.083333   1.      ]\n",
      " [ 27.        18.391304  20.       ...,  19.695652  19.695652   2.      ]\n",
      " [ 20.166667  25.958333  22.       ...,  14.333333  14.333333   3.      ]\n",
      " ..., \n",
      " [ 19.633333  11.45       8.504167 ...,  11.075      4.333333   1.      ]\n",
      " [  2.058333  11.3       13.7875   ...,  11.869565  11.869565   2.      ]\n",
      " [ 11.925     11.7625    12.275    ...,   2.4625     9.25       3.      ]]\n"
     ]
    }
   ],
   "source": [
    "\n",
    "finalSeriesNP = np.asarray(finalSeries)\n",
    "print(finalSeriesNP)"
   ]
  },
  {
   "cell_type": "code",
   "execution_count": 19,
   "metadata": {
    "collapsed": true
   },
   "outputs": [],
   "source": [
    "def DTWDistance(s1, s2,w):\n",
    "    DTW={}\n",
    "    \n",
    "    w = max(w, abs(len(s1)-len(s2)))\n",
    "    \n",
    "    for i in range(-1,len(s1)):\n",
    "        for j in range(-1,len(s2)):\n",
    "            DTW[(i, j)] = float('inf')\n",
    "    DTW[(-1, -1)] = 0\n",
    "  \n",
    "    for i in range(len(s1)):\n",
    "        for j in range(max(0, i-w), min(len(s2), i+w)):\n",
    "            dist= (s1[i]-s2[j])**2\n",
    "            DTW[(i, j)] = dist + min(DTW[(i-1, j)],DTW[(i, j-1)], DTW[(i-1, j-1)])\n",
    "\t\t\n",
    "    return np.sqrt(DTW[len(s1)-1, len(s2)-1])"
   ]
  },
  {
   "cell_type": "code",
   "execution_count": 20,
   "metadata": {
    "collapsed": true
   },
   "outputs": [],
   "source": [
    "def LB_Keogh(s1,s2,r):\n",
    "    LB_sum=0\n",
    "    for ind,i in enumerate(s1):\n",
    "        \n",
    "        lower_bound=min(s2[(ind-r if ind-r>=0 else 0):(ind+r)])\n",
    "        upper_bound=max(s2[(ind-r if ind-r>=0 else 0):(ind+r)])\n",
    "        \n",
    "        if i>upper_bound:\n",
    "            LB_sum=LB_sum+(i-upper_bound)**2\n",
    "        elif i<lower_bound:\n",
    "            LB_sum=LB_sum+(i-lower_bound)**2\n",
    "    \n",
    "    return np.sqrt(LB_sum)"
   ]
  },
  {
   "cell_type": "code",
   "execution_count": 66,
   "metadata": {
    "collapsed": true
   },
   "outputs": [],
   "source": [
    "import random\n",
    "\n",
    "def k_means_clust(data,num_clust,num_iter,w=5):\n",
    "    centroids=random.sample(list(data),num_clust)\n",
    "    print(len(centroids))\n",
    "    counter=0\n",
    "    for n in range(num_iter):\n",
    "        counter+=1\n",
    "        print(counter)\n",
    "        assignments={}\n",
    "        #assign data points to clusters\n",
    "        for ind,i in enumerate(data):\n",
    "            min_dist=float('inf')\n",
    "            closest_clust=None\n",
    "            for c_ind,j in enumerate(centroids):\n",
    "                if LB_Keogh(i,j,5)<min_dist:\n",
    "                    cur_dist=DTWDistance(i,j,w)\n",
    "                    if cur_dist<min_dist:\n",
    "                        min_dist=cur_dist\n",
    "                        closest_clust=c_ind\n",
    "            if closest_clust in assignments:\n",
    "                assignments[closest_clust].append(ind)\n",
    "            else:\n",
    "                assignments[closest_clust]=[]\n",
    "    \n",
    "        #recalculate centroids of clusters\n",
    "        for key in assignments:\n",
    "            clust_sum=0\n",
    "            for k in assignments[key]:\n",
    "                clust_sum=clust_sum+data[k]\n",
    "            centroids[key]=[m/len(assignments[key]) for m in clust_sum]\n",
    "            \n",
    "    #print(assignments)\n",
    "    \n",
    "    return centroids, assignments"
   ]
  },
  {
   "cell_type": "code",
   "execution_count": 61,
   "metadata": {
    "collapsed": true
   },
   "outputs": [],
   "source": [
    "dataForKMeans = finalSeriesNP[:,:-1]"
   ]
  },
  {
   "cell_type": "code",
   "execution_count": 70,
   "metadata": {},
   "outputs": [
    {
     "name": "stdout",
     "output_type": "stream",
     "text": [
      "4\n",
      "1\n",
      "2\n",
      "3\n",
      "4\n",
      "5\n",
      "6\n",
      "7\n",
      "8\n",
      "9\n",
      "10\n",
      "{3: [1, 2, 10, 11, 0, 11, 0, 1, 10, 11, 0, 1, 9, 10, 11, 0, 1, 11, 11, 0, 1, 11, 10, 11, 1, 11, 0, 11, 0, 0], 0: [9, 1, 2, 3, 9, 10, 2, 9, 2, 7, 8, 2, 9, 10, 0, 1, 2, 10, 2, 9, 10, 0, 1, 2, 9, 0, 2, 10, 1, 0, 1, 10, 11, 9, 10, 11, 1, 9, 10, 11, 0, 10, 11, 9, 9, 10], 1: [5, 8, 4, 5, 7, 8, 3, 4, 5, 6, 7, 8, 3, 4, 5, 6, 3, 4, 5, 6, 7, 8, 3, 4, 5, 6, 7, 8, 9, 3, 4, 5, 6, 7, 8, 3, 5, 3, 4, 5, 9, 2, 3, 9, 10, 2, 9, 1, 2, 8, 2, 8, 1, 8, 9, 0, 4, 7, 8, 10, 11, 8, 11], 2: [7, 6, 4, 6, 7, 8, 6, 7, 8, 4, 5, 6, 7, 8, 3, 4, 5, 6, 7, 8, 3, 4, 5, 6, 7, 3, 4, 5, 6, 7, 2, 3, 4, 5, 6, 7, 1, 2, 3, 5, 6, 0, 1, 2, 3, 4, 5, 6, 7, 0]}\n"
     ]
    },
    {
     "data": {
      "image/png": "[encoded data removed]",
      "text/plain": [
       "<matplotlib.figure.Figure at 0xe7ad020be0>"
      ]
     },
     "metadata": {},
     "output_type": "display_data"
    }
   ],
   "source": [
    "import matplotlib.pylab as plt\n",
    "\n",
    "centroids, assignments = k_means_clust(dataForKMeans,4,10,4)\n",
    "\n",
    "tempDict = {}\n",
    "for k in assignments.keys():\n",
    "    temp = []\n",
    "    for i in assignments[k]:\n",
    "        temp.append(i%12)\n",
    "    tempDict[k] = temp\n",
    "print(tempDict)\n",
    "for i in centroids:\n",
    "    \n",
    "    plt.plot(i)\n",
    "\n",
    "plt.show()\n"
   ]
  },
  {
   "cell_type": "code",
   "execution_count": null,
   "metadata": {
    "collapsed": true
   },
   "outputs": [],
   "source": []
  },
  {
   "cell_type": "code",
   "execution_count": null,
   "metadata": {
    "collapsed": true
   },
   "outputs": [],
   "source": []
  }
 ],
 "metadata": {
  "kernelspec": {
   "display_name": "Python 3",
   "language": "python",
   "name": "python3"
  },
  "language_info": {
   "codemirror_mode": {
    "name": "ipython",
    "version": 3
   },
   "file_extension": ".py",
   "mimetype": "text/x-python",
   "name": "python",
   "nbconvert_exporter": "python",
   "pygments_lexer": "ipython3",
   "version": "3.6.2"
  }
 },
 "nbformat": 4,
 "nbformat_minor": 2
}
