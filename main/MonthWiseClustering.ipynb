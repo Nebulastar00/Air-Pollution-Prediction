{
 "cells": [
  {
   "cell_type": "code",
   "execution_count": 1,
   "metadata": {
    "collapsed": true
   },
   "outputs": [],
   "source": [
    "import pandas as pd\n",
    "import numpy as np\n",
    "import matplotlib.pylab as plt\n",
    "import datetime as dt\n",
    "%matplotlib inline\n",
    "from matplotlib.pylab import rcParams\n",
    "rcParams['figure.figsize'] = 15, 6"
   ]
  },
  {
   "cell_type": "markdown",
   "metadata": {},
   "source": [
    "#### Reading Monthly Data"
   ]
  },
  {
   "cell_type": "code",
   "execution_count": 2,
   "metadata": {
    "collapsed": true
   },
   "outputs": [],
   "source": [
    "finalSeries = []\n",
    "\n",
    "for i in range(2000,2017):\n",
    "    filename = \"../data/data\"+str(i)\n",
    "    for j in range(1,13):\n",
    "        filename = filename + \"month\" + str(j) +\".csv\"\n",
    "        data = pd.read_csv(filename, usecols=['NO2 Mean'])\n",
    "        series = data['NO2 Mean'].tolist()\n",
    "        if(len(series)<31 and len(series)!=0):\n",
    "            while len(series)!=31:\n",
    "                last = series[len(series)-1]\n",
    "                series.append(last)\n",
    "        if(len(series)!=0):\n",
    "            series.append(j)\n",
    "            seriesNP = np.asarray(series)\n",
    "            finalSeries.append(seriesNP)\n",
    "        filename = \"../data/data\"+str(i)"
   ]
  },
  {
   "cell_type": "code",
   "execution_count": null,
   "metadata": {
    "collapsed": true
   },
   "outputs": [],
   "source": [
    "'''\n",
    "for i in range(2000,2017):\n",
    "    filename1 = \"data/data\"+str(i)\n",
    "    for j in range(1,13):\n",
    "        filename1 = filename1 + \"month\" + str(j) +\".csv\"\n",
    "        data1 = pd.read_csv(filename1, usecols=['NO2 Mean'])\n",
    "        series1 = data1['NO2 Mean'].tolist()\n",
    "        if(len(series1)<31 and len(series1)!=0):\n",
    "            while len(series1)!=31:\n",
    "                last1 = series1[len(series1)-1]\n",
    "                series1.append(last1)\n",
    "        if(len(series1)!=0):\n",
    "            series1.append(j)\n",
    "            seriesNP1 = np.asarray(series1)\n",
    "            finalSeries1.append(seriesNP1)\n",
    "        filename1 = \"data/data\"+str(i)\n",
    "'''"
   ]
  },
  {
   "cell_type": "markdown",
   "metadata": {},
   "source": [
    "#### Dynamic Time Warping & LB-Keogh"
   ]
  },
  {
   "cell_type": "code",
   "execution_count": 10,
   "metadata": {},
   "outputs": [
    {
     "name": "stdout",
     "output_type": "stream",
     "text": [
      "[[ 15.208333  18.5       31.521739 ...,  28.083333  28.083333   1.      ]\n",
      " [ 27.        18.391304  20.       ...,  19.695652  19.695652   2.      ]\n",
      " [ 20.166667  25.958333  22.       ...,  14.333333  14.333333   3.      ]\n",
      " ..., \n",
      " [ 19.633333  11.45       8.504167 ...,  11.075      4.333333   1.      ]\n",
      " [  2.058333  11.3       13.7875   ...,  11.869565  11.869565   2.      ]\n",
      " [ 11.925     11.7625    12.275    ...,   2.4625     9.25       3.      ]]\n"
     ]
    }
   ],
   "source": [
    "finalSeriesNP = np.asarray(finalSeries)\n",
    "print(finalSeriesNP)"
   ]
  },
  {
   "cell_type": "code",
   "execution_count": 11,
   "metadata": {
    "collapsed": true
   },
   "outputs": [],
   "source": [
    "def DynamicTimeWarping(timeseries, centroid_timeseries, window):\n",
    "    DTW_Dictionary={}\n",
    "    \n",
    "    for i in range(0,(len(timeseries)+1)):\n",
    "        for j in range(0,(len(centroid_timeseries)+1)):\n",
    "            if((i==0) & (j==0)):\n",
    "                DTW_Dictionary[(i, j)] = float(0)\n",
    "            else:\n",
    "                DTW_Dictionary[(i, j)] = float('inf')    \n",
    "       \n",
    "    for item in range(len(timeseries)):\n",
    "        low = (item-window) if (item-window)>=0 else 0\n",
    "        high = (len(centroid_timeseries)) if ((item+window) >= (len(centroid_timeseries))) else (item+window)\n",
    "        for second_item in range(low, high):    \n",
    "            distance= (timeseries[item]-centroid_timeseries[second_item])**2\n",
    "            DTW_Dictionary[(item+1), (second_item+1)] = distance + min(DTW_Dictionary[(item, second_item+1)],DTW_Dictionary[(item+1, second_item)], DTW_Dictionary[(item, second_item)])\n",
    "    return np.sqrt(DTW_Dictionary[len(timeseries), len(centroid_timeseries)])"
   ]
  },
  {
   "cell_type": "code",
   "execution_count": 12,
   "metadata": {
    "collapsed": true
   },
   "outputs": [],
   "source": [
    "def LowerBoundKeogh(timeseries,centroid_timeseries,reach):\n",
    "    lowerBoundSum=0\n",
    "    for index, item in enumerate(timeseries):\n",
    "        low = 0 if (index-reach)<0 else (index-reach)\n",
    "        if len(centroid_timeseries[(low):(index+reach)])==0:\n",
    "            break\n",
    "        lowerBound = min(centroid_timeseries[(low):(index+reach)])\n",
    "        upperBound = max(centroid_timeseries[(low):(index+reach)])\n",
    "        \n",
    "        if item>upperBound:\n",
    "            lowerBoundSum = lowerBoundSum+(item-upperBound)**2\n",
    "        elif item<lowerBound:\n",
    "            lowerBoundSum = lowerBoundSum+(item-lowerBound)**2\n",
    "    \n",
    "    return np.sqrt(lowerBoundSum)"
   ]
  },
  {
   "cell_type": "markdown",
   "metadata": {},
   "source": [
    "#### K-Means for clustering monthly data. Args - data, number of clusters, number of iterations, window"
   ]
  },
  {
   "cell_type": "code",
   "execution_count": 16,
   "metadata": {
    "collapsed": true
   },
   "outputs": [],
   "source": [
    "import random\n",
    "\n",
    "def KMeans(data, numCluster, iterations, window):\n",
    "    centroids = random.sample(list(data),numCluster)\n",
    "\n",
    "    for n in range(iterations):\n",
    "        print(n)\n",
    "        clusterID = {}\n",
    "        \n",
    "        for index, item in enumerate(data):\n",
    "            minDist = float('inf')\n",
    "            closestCluster = None\n",
    "            for centroidIndex, j in enumerate(centroids):\n",
    "                if LowerBoundKeogh(item, j, 5) < minDist:\n",
    "                    currentDist = DynamicTimeWarping(item, j, window)\n",
    "                    if currentDist < minDist:\n",
    "                        minDist = currentDist\n",
    "                        closestCluster = centroidIndex\n",
    "                       \n",
    "            if closestCluster in clusterID:\n",
    "                clusterID[closestCluster].append(index)\n",
    "            else:\n",
    "                clusterID[closestCluster]=[]\n",
    "\n",
    "        for ID in clusterID:\n",
    "            clusterSum = 0\n",
    "            if ID is not None:\n",
    "                for k in clusterID[ID]:\n",
    "                    clusterSum = clusterSum + data[k]   \n",
    "                centroids[ID] = [m/len(clusterID[ID]) for m in clusterSum if len(clusterID[ID])!=0]\n",
    "    \n",
    "    return centroids, clusterID"
   ]
  },
  {
   "cell_type": "code",
   "execution_count": 17,
   "metadata": {
    "collapsed": true
   },
   "outputs": [],
   "source": [
    "dataForKMeans = finalSeriesNP[:,:-1]"
   ]
  },
  {
   "cell_type": "markdown",
   "metadata": {},
   "source": [
    "#### Output of clustering | Contains the months assigned to corresponding clusters\n",
    "#### 1 - Jan, 2 - Feb, 3- Mar, 4 - Apr, 5 - May, 6 - Jun, 7 - July, 8 - Aug, 9 - Sept, 10 - Oct, 11 - Nov, 0 - Dec"
   ]
  },
  {
   "cell_type": "code",
   "execution_count": 18,
   "metadata": {},
   "outputs": [
    {
     "name": "stdout",
     "output_type": "stream",
     "text": [
      "0\n",
      "1\n",
      "2\n",
      "3\n",
      "4\n",
      "5\n",
      "6\n",
      "7\n",
      "8\n",
      "9\n",
      "{1: [1, 2, 3, 10, 11, 0, 1, 2, 10, 11, 0, 1, 2, 9, 10, 11, 0, 1, 8, 9, 10, 11, 0, 1, 10, 11, 0, 10, 11, 0, 1, 10, 11, 10, 11, 0, 1, 11, 0, 1, 11, 11, 0, 11, 0, 11, 9], 0: [9, 3, 4, 9, 3, 4, 5, 8, 2, 4, 7, 2, 3, 4, 9, 1, 2, 3, 4, 8, 9, 2, 3, 4, 5, 6, 9, 0, 1, 2, 9, 2, 9, 10, 2, 10, 0, 1, 2, 10, 1, 9, 10, 1, 2, 8, 9, 10, 0, 10, 11, 0, 9, 10, 8, 10], 3: [6, 7, 8, 5, 7, 8, 6, 7, 3, 5, 6, 5, 6, 7, 8, 5, 6, 7, 7, 8, 3, 5, 8, 3, 4, 5, 3, 4, 9, 3, 8, 9, 2, 8, 3, 1, 8, 9, 1, 4, 7, 8, 11, 11], 2: [4, 6, 7, 6, 7, 8, 5, 6, 7, 8, 4, 5, 6, 7, 3, 4, 5, 6, 7, 4, 5, 6, 7, 2, 3, 4, 5, 6, 7, 2, 3, 5, 6, 0, 1, 2, 3, 4, 5, 6, 7, 0]}\n"
     ]
    },
    {
     "data": {
      "image/png": "[encoded data removed]",
      "text/plain": [
       "<matplotlib.figure.Figure at 0xe378fc07b8>"
      ]
     },
     "metadata": {},
     "output_type": "display_data"
    }
   ],
   "source": [
    "import matplotlib.pylab as plt\n",
    "\n",
    "centroids, assignments = KMeans(dataForKMeans,4,10,4)\n",
    "\n",
    "tempDict = {}\n",
    "for k in assignments.keys():\n",
    "    temp = []\n",
    "    for i in assignments[k]:\n",
    "        temp.append(i%12)\n",
    "    tempDict[k] = temp\n",
    "print(tempDict)\n",
    "for i in centroids:\n",
    "    \n",
    "    plt.plot(i)\n",
    "\n",
    "plt.show()"
   ]
  },
  {
   "cell_type": "code",
   "execution_count": 20,
   "metadata": {},
   "outputs": [
    {
     "name": "stdout",
     "output_type": "stream",
     "text": [
      "[1, 1, 0, 3, 0, 2, 2, 2, 3, 0, 1, 1]\n"
     ]
    }
   ],
   "source": [
    "count = [0]*12\n",
    "count_temp = [0]*12\n",
    "count_max = 0\n",
    "for i in range(0,12):\n",
    "    for clust in assignments.keys():\n",
    "        #print(clust)\n",
    "        count_max = 0\n",
    "        for element in assignments[clust]:\n",
    "            if((element%12) == (i)):\n",
    "                count_max = count_max + 1\n",
    "        if(count_max > count_temp[i]):\n",
    "            count_temp[i] = count_max\n",
    "            count[i] = clust\n",
    "print(count)"
   ]
  },
  {
   "cell_type": "markdown",
   "metadata": {},
   "source": [
    "#### Cleaning the clustering to know which month belongs to which cluters\n",
    "#### Explanation - the list index indicates the months and the value represents the cluster number they belong to."
   ]
  }
 ],
 "metadata": {
  "kernelspec": {
   "display_name": "Python 3",
   "language": "python",
   "name": "python3"
  },
  "language_info": {
   "codemirror_mode": {
    "name": "ipython",
    "version": 3
   },
   "file_extension": ".py",
   "mimetype": "text/x-python",
   "name": "python",
   "nbconvert_exporter": "python",
   "pygments_lexer": "ipython3",
   "version": "3.6.2"
  }
 },
 "nbformat": 4,
 "nbformat_minor": 2
}
