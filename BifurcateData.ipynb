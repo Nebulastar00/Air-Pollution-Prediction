{
 "cells": [
  {
   "cell_type": "code",
   "execution_count": 1,
   "metadata": {
    "collapsed": true
   },
   "outputs": [],
   "source": [
    "import pandas as pd\n",
    "import numpy as np"
   ]
  },
  {
   "cell_type": "code",
   "execution_count": 3,
   "metadata": {},
   "outputs": [],
   "source": [
    "data = pd.read_csv('data/prepocessed.csv', encoding='utf8', engine='python')\n",
    "data = data.drop(data.columns[0], axis=1)\n",
    "data = data.loc[data['State'] == 'Arizona']"
   ]
  },
  {
   "cell_type": "code",
   "execution_count": 4,
   "metadata": {
    "collapsed": true
   },
   "outputs": [],
   "source": [
    "data.to_csv('data/Arizona.csv', ',', encoding='utf8')"
   ]
  },
  {
   "cell_type": "code",
   "execution_count": 9,
   "metadata": {
    "collapsed": true
   },
   "outputs": [],
   "source": [
    "dataArizona = pd.read_csv('data/Arizona.csv')\n",
    "dataArizona = data.groupby(['Date Local', 'County Code']).mean().reset_index()"
   ]
  },
  {
   "cell_type": "code",
   "execution_count": 10,
   "metadata": {},
   "outputs": [
    {
     "data": {
      "text/html": [
       "<div>\n",
       "<style>\n",
       "    .dataframe thead tr:only-child th {\n",
       "        text-align: right;\n",
       "    }\n",
       "\n",
       "    .dataframe thead th {\n",
       "        text-align: left;\n",
       "    }\n",
       "\n",
       "    .dataframe tbody tr th {\n",
       "        vertical-align: top;\n",
       "    }\n",
       "</style>\n",
       "<table border=\"1\" class=\"dataframe\">\n",
       "  <thead>\n",
       "    <tr style=\"text-align: right;\">\n",
       "      <th></th>\n",
       "      <th>Date Local</th>\n",
       "      <th>County Code</th>\n",
       "      <th>State Code</th>\n",
       "      <th>Site Num</th>\n",
       "      <th>NO2 Mean</th>\n",
       "      <th>NO2 1st Max Value</th>\n",
       "      <th>NO2 1st Max Hour</th>\n",
       "      <th>NO2 AQI</th>\n",
       "      <th>O3 Mean</th>\n",
       "      <th>O3 1st Max Value</th>\n",
       "      <th>O3 1st Max Hour</th>\n",
       "      <th>O3 AQI</th>\n",
       "      <th>SO2 Mean</th>\n",
       "      <th>SO2 1st Max Value</th>\n",
       "      <th>SO2 1st Max Hour</th>\n",
       "      <th>SO2 AQI</th>\n",
       "      <th>CO Mean</th>\n",
       "      <th>CO 1st Max Value</th>\n",
       "      <th>CO 1st Max Hour</th>\n",
       "      <th>CO AQI</th>\n",
       "    </tr>\n",
       "  </thead>\n",
       "  <tbody>\n",
       "    <tr>\n",
       "      <th>0</th>\n",
       "      <td>2000-01-01</td>\n",
       "      <td>13</td>\n",
       "      <td>4.0</td>\n",
       "      <td>3002.5</td>\n",
       "      <td>33.125000</td>\n",
       "      <td>75.5</td>\n",
       "      <td>20.0</td>\n",
       "      <td>73.5</td>\n",
       "      <td>0.021125</td>\n",
       "      <td>0.0395</td>\n",
       "      <td>9.5</td>\n",
       "      <td>33.5</td>\n",
       "      <td>2.365625</td>\n",
       "      <td>4.90</td>\n",
       "      <td>11.50</td>\n",
       "      <td>6.666667</td>\n",
       "      <td>0.858333</td>\n",
       "      <td>2.400</td>\n",
       "      <td>22.25</td>\n",
       "      <td>16.833333</td>\n",
       "    </tr>\n",
       "    <tr>\n",
       "      <th>1</th>\n",
       "      <td>2000-01-01</td>\n",
       "      <td>19</td>\n",
       "      <td>4.0</td>\n",
       "      <td>1011.0</td>\n",
       "      <td>15.208333</td>\n",
       "      <td>38.0</td>\n",
       "      <td>19.0</td>\n",
       "      <td>36.0</td>\n",
       "      <td>0.022917</td>\n",
       "      <td>0.0390</td>\n",
       "      <td>9.0</td>\n",
       "      <td>33.0</td>\n",
       "      <td>1.822917</td>\n",
       "      <td>3.15</td>\n",
       "      <td>5.00</td>\n",
       "      <td>6.000000</td>\n",
       "      <td>0.352193</td>\n",
       "      <td>1.000</td>\n",
       "      <td>21.00</td>\n",
       "      <td>8.000000</td>\n",
       "    </tr>\n",
       "    <tr>\n",
       "      <th>2</th>\n",
       "      <td>2000-01-02</td>\n",
       "      <td>13</td>\n",
       "      <td>4.0</td>\n",
       "      <td>3002.5</td>\n",
       "      <td>25.520833</td>\n",
       "      <td>57.5</td>\n",
       "      <td>21.0</td>\n",
       "      <td>56.0</td>\n",
       "      <td>0.013813</td>\n",
       "      <td>0.0295</td>\n",
       "      <td>10.0</td>\n",
       "      <td>25.0</td>\n",
       "      <td>1.658333</td>\n",
       "      <td>2.40</td>\n",
       "      <td>11.75</td>\n",
       "      <td>4.500000</td>\n",
       "      <td>0.736458</td>\n",
       "      <td>1.675</td>\n",
       "      <td>11.25</td>\n",
       "      <td>16.083333</td>\n",
       "    </tr>\n",
       "    <tr>\n",
       "      <th>3</th>\n",
       "      <td>2000-01-02</td>\n",
       "      <td>19</td>\n",
       "      <td>4.0</td>\n",
       "      <td>1011.0</td>\n",
       "      <td>18.500000</td>\n",
       "      <td>38.0</td>\n",
       "      <td>19.0</td>\n",
       "      <td>36.0</td>\n",
       "      <td>0.015708</td>\n",
       "      <td>0.0310</td>\n",
       "      <td>10.0</td>\n",
       "      <td>26.0</td>\n",
       "      <td>1.368750</td>\n",
       "      <td>2.00</td>\n",
       "      <td>9.00</td>\n",
       "      <td>3.000000</td>\n",
       "      <td>0.385069</td>\n",
       "      <td>0.750</td>\n",
       "      <td>4.50</td>\n",
       "      <td>9.000000</td>\n",
       "    </tr>\n",
       "    <tr>\n",
       "      <th>4</th>\n",
       "      <td>2000-01-03</td>\n",
       "      <td>13</td>\n",
       "      <td>4.0</td>\n",
       "      <td>3002.5</td>\n",
       "      <td>50.419643</td>\n",
       "      <td>110.5</td>\n",
       "      <td>13.5</td>\n",
       "      <td>81.0</td>\n",
       "      <td>0.012125</td>\n",
       "      <td>0.0240</td>\n",
       "      <td>15.5</td>\n",
       "      <td>20.5</td>\n",
       "      <td>3.120833</td>\n",
       "      <td>6.65</td>\n",
       "      <td>19.50</td>\n",
       "      <td>10.416667</td>\n",
       "      <td>1.523390</td>\n",
       "      <td>3.050</td>\n",
       "      <td>8.50</td>\n",
       "      <td>20.833333</td>\n",
       "    </tr>\n",
       "  </tbody>\n",
       "</table>\n",
       "</div>"
      ],
      "text/plain": [
       "   Date Local  County Code  State Code  Site Num   NO2 Mean  \\\n",
       "0  2000-01-01           13         4.0    3002.5  33.125000   \n",
       "1  2000-01-01           19         4.0    1011.0  15.208333   \n",
       "2  2000-01-02           13         4.0    3002.5  25.520833   \n",
       "3  2000-01-02           19         4.0    1011.0  18.500000   \n",
       "4  2000-01-03           13         4.0    3002.5  50.419643   \n",
       "\n",
       "   NO2 1st Max Value  NO2 1st Max Hour  NO2 AQI   O3 Mean  O3 1st Max Value  \\\n",
       "0               75.5              20.0     73.5  0.021125            0.0395   \n",
       "1               38.0              19.0     36.0  0.022917            0.0390   \n",
       "2               57.5              21.0     56.0  0.013813            0.0295   \n",
       "3               38.0              19.0     36.0  0.015708            0.0310   \n",
       "4              110.5              13.5     81.0  0.012125            0.0240   \n",
       "\n",
       "   O3 1st Max Hour  O3 AQI  SO2 Mean  SO2 1st Max Value  SO2 1st Max Hour  \\\n",
       "0              9.5    33.5  2.365625               4.90             11.50   \n",
       "1              9.0    33.0  1.822917               3.15              5.00   \n",
       "2             10.0    25.0  1.658333               2.40             11.75   \n",
       "3             10.0    26.0  1.368750               2.00              9.00   \n",
       "4             15.5    20.5  3.120833               6.65             19.50   \n",
       "\n",
       "     SO2 AQI   CO Mean  CO 1st Max Value  CO 1st Max Hour     CO AQI  \n",
       "0   6.666667  0.858333             2.400            22.25  16.833333  \n",
       "1   6.000000  0.352193             1.000            21.00   8.000000  \n",
       "2   4.500000  0.736458             1.675            11.25  16.083333  \n",
       "3   3.000000  0.385069             0.750             4.50   9.000000  \n",
       "4  10.416667  1.523390             3.050             8.50  20.833333  "
      ]
     },
     "execution_count": 10,
     "metadata": {},
     "output_type": "execute_result"
    }
   ],
   "source": [
    "dataArizona.head()"
   ]
  },
  {
   "cell_type": "code",
   "execution_count": 12,
   "metadata": {
    "collapsed": true
   },
   "outputs": [],
   "source": [
    "dataArizona.to_csv('data/ArizonaGrouped.csv', ',', encoding='utf8')"
   ]
  },
  {
   "cell_type": "code",
   "execution_count": null,
   "metadata": {
    "collapsed": true
   },
   "outputs": [],
   "source": []
  }
 ],
 "metadata": {
  "kernelspec": {
   "display_name": "Python 3",
   "language": "python",
   "name": "python3"
  },
  "language_info": {
   "codemirror_mode": {
    "name": "ipython",
    "version": 3
   },
   "file_extension": ".py",
   "mimetype": "text/x-python",
   "name": "python",
   "nbconvert_exporter": "python",
   "pygments_lexer": "ipython3",
   "version": "3.6.2"
  }
 },
 "nbformat": 4,
 "nbformat_minor": 2
}
